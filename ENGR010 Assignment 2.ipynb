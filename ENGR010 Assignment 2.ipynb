{
 "cells": [
  {
   "cell_type": "markdown",
   "id": "9fa7cada",
   "metadata": {},
   "source": [
    "<h2 style=\"text-align: center\">Engineering Assignment 2 - Rules Engine for Safety Hazards</h2>"
   ]
  },
  {
   "cell_type": "markdown",
   "id": "03430e13",
   "metadata": {},
   "source": [
    "This project is to create a program that will allow users to get information about Probability of Occurrence, Severity of Consequences Value and about different scales for severity. It will also provide the users doing the assesment a streamlined process to get the risk rating based on values they enter for frequency, what scale to use and estimate of the hazard's severity. "
   ]
  },
  {
   "cell_type": "markdown",
   "id": "b87fb0c0",
   "metadata": {},
   "source": [
    "<strong>Step 1: Hazard Probability</strong>"
   ]
  },
  {
   "cell_type": "markdown",
   "id": "661babca",
   "metadata": {},
   "source": [
    "I will research the different values and attributes given to different hazard probabilies. I will that then to create a dataset with these attributes and print a table of the attributes based on an input from the user. "
   ]
  },
  {
   "cell_type": "code",
   "execution_count": 55,
   "id": "32e7543b",
   "metadata": {},
   "outputs": [
    {
     "name": "stdout",
     "output_type": "stream",
     "text": [
      "Add Probability Rating 0-4\n"
     ]
    },
    {
     "name": "stdin",
     "output_type": "stream",
     "text": [
      " 0\n"
     ]
    },
    {
     "name": "stdout",
     "output_type": "stream",
     "text": [
      "Probability Rating : 0\n",
      "Percent : 0%\n",
      "Description : Item/operation is not present in laboratory.\n"
     ]
    }
   ],
   "source": [
    "import numpy as np #This is helpful for dataframes and arrays. \n",
    "\n",
    "print(\"Add Probability Rating 0-4\")\n",
    "HazardProbability=input()#getting input from user \n",
    "\n",
    "HazardProbArray=np.array([[0,\"0%\",\"Item/operation is not present in laboratory.\"],[1,\"1-10%\",\"Rare\"],[2,\"10-50%\",\"Possible\"],[3,\"50-90%\",\"Likely\"],[4,\"90-100%\",\"Almost Certain to Certain\"]])\n",
    "#A data frame with values and descriptions for each of the attributes for all of the levels of Probability rating\n",
    "HazTitles=[\"Probability Rating : \",\"Percent : \",\"Description : \"] #A list of titles for each of the attributes\n",
    "for i in range(3):\n",
    "    print(f\"{HazTitles[i]}{HazardProbArray[int(HazardProbability)][i]}\")#printing out each of the different attributes on a new row given the value the user inputted\n",
    "    #if the user does not enter a valid value an out of bounds error will occur"
   ]
  },
  {
   "cell_type": "markdown",
   "id": "b8ff820f",
   "metadata": {},
   "source": [
    "<strong>Step 2: Choice of Severity Scale</strong>"
   ]
  },
  {
   "cell_type": "markdown",
   "id": "0515c0e0",
   "metadata": {},
   "source": [
    "I will figure out the different scales and research there values. I will research the costs and benifits to the different scales and give a discription of each of the scales after the user chooses which scale to implement."
   ]
  },
  {
   "cell_type": "code",
   "execution_count": 52,
   "id": "fd943e03",
   "metadata": {},
   "outputs": [
    {
     "name": "stdout",
     "output_type": "stream",
     "text": [
      "Select a Severity Scale: Standard Linear Scale(0) or Weighted Value Scale(1)\n"
     ]
    },
    {
     "name": "stdin",
     "output_type": "stream",
     "text": [
      " 1\n"
     ]
    },
    {
     "name": "stdout",
     "output_type": "stream",
     "text": [
      "You have chosen the Weighted Value Scale.\n",
      "The Weighted Value Scale gives each incrasing level of severity a higher value. This means that the difference between no risk and minor is much less than the difference between moderate and high risk. The scale is from 1-20 with values from no risk, minor, moderate, high being 1,5,10,20 respectively. This places a high risk rating significance not only in the risk of the activity itself but also a higher rating comperitively to higher risk activities\n"
     ]
    }
   ],
   "source": [
    "print(\"Select a Severity Scale: Standard Linear Scale(0) or Weighted Value Scale(1)\")\n",
    "selectedScale=input()#getting user input\n",
    "\n",
    "ScaleArray=np.array([[\"Standard Linear Scale\",\"The Standard Linear Scale gives each level of severity a linear value. This means the difference from none to minor is the same as moderate to high. The scale is also valued from 1-4 the same way the probabilty scale is. This means that a very likely activity with no risk has the same risk rating as a life threatening hazard with rare probability does\"],[\"Weighted Value Scale\",\"The Weighted Value Scale gives each incrasing level of severity a higher value. This means that the difference between no risk and minor is much less than the difference between moderate and high risk. The scale is from 1-20 with values from no risk, minor, moderate, high being 1,5,10,20 respectively. This places a high risk rating significance not only in the risk of the activity itself but also a higher rating comperitively to higher risk activities\"]])\n",
    "print(f\"You have chosen the {ScaleArray[int(selectedScale)][0]}.\\n{ScaleArray[int(selectedScale)][1]}\")"
   ]
  },
  {
   "cell_type": "markdown",
   "id": "c2d43fb1",
   "metadata": {},
   "source": [
    "<strong>Step 3: Hazard Severity</strong>"
   ]
  },
  {
   "cell_type": "markdown",
   "id": "3e435e2b",
   "metadata": {},
   "source": [
    "I will research the different values and attributes given to different severity scales. I will that then to create a dataset with these attributes and print a table of the attributes based on an input from the user. The input in this cell will be for the level of severity and the input from the previous cell will determine which of the scales to use."
   ]
  },
  {
   "cell_type": "code",
   "execution_count": 53,
   "id": "9ce37257",
   "metadata": {},
   "outputs": [
    {
     "name": "stdout",
     "output_type": "stream",
     "text": [
      "Weighted Value Scale\n",
      "Add the Hazard Severity Assesment 0-3\n"
     ]
    },
    {
     "name": "stdin",
     "output_type": "stream",
     "text": [
      " 3\n"
     ]
    },
    {
     "name": "stdout",
     "output_type": "stream",
     "text": [
      "Severity Scale :  20\n",
      "Severity Rating :  High\n",
      "Impact on Personal Safety :  Life threatening injuries from single exposure\n",
      "Impact on Resources :  Institutional resources required\n",
      "Impact on Work Performance :  Major operational disruptions\n",
      "Property Damage :  Severe\n",
      "Impact on Reputation :  Loss of confidence\n"
     ]
    }
   ],
   "source": [
    "if (int(selectedScale)==1): #if using the weighted value scale\n",
    "    print(\"Weighted Value Scale\")\n",
    "    print(\"Add the Hazard Severity Assesment 0-3\") \n",
    "    SeverityScale=input() #getting the user input\n",
    " \n",
    "    SeverityScaleArray=np.array([[1,\"No Risk\",\"No Injuries\",\"No Impact\",\"No delays\",\"Minor\",\"No Impact\"],[5,\"Minor\",\"Minor Injuries\",\"Moderate Impact\",\"Modest Delays\",\"Moderate\",\"Potential Damage\"],[10,\"Moderate\",\"Moderate to life impacting injuries\",\"Additional resources required\",\"Significant delays\",\"Substantial\",\"Damaged\"],[20,\"High\",\"Life threatening injuries from single exposure\",\"Institutional resources required\",\"Major operational disruptions\",\"Severe\",\"Loss of confidence\"]],dtype=object)\n",
    "    #A data frame with values and descriptions for each of the attributes for all of the levels of Severity\n",
    "    SevTitles=[\"Severity Scale : \",\"Severity Rating : \",\"Impact on Personal Safety : \",\"Impact on Resources : \",\"Impact on Work Performance : \",\"Property Damage : \",\"Impact on Reputation : \"]\n",
    "    #A list of titles for each of the attributes\n",
    "    for i in range(7):\n",
    "        print(f\"{SevTitles[i]} {SeverityScaleArray[int(SeverityScale)][i]}\")#printing out each of the different attributes on a new row given the value the user inputted\n",
    "elif(int(selectedScale)==0):#if using the linear scale\n",
    "    print(\"Standard Linear Scale\")\n",
    "    print(\"Add Severity Scale 0-3\") \n",
    "    SeverityScale=input() #getting the input\n",
    " \n",
    "    SeverityScaleArray=np.array([[1,\"No Risk\",\"No Injuries\",\"No Impact\",\"No delays\",\"Minor\",\"No Impact\"],[2,\"Minor\",\"Minor Injuries\",\"Moderate Impact\",\"Modest Delays\",\"Moderate\",\"Potential Damage\"],[3,\"Moderate\",\"Moderate to life impacting injuries\",\"Additional resources required\",\"Significant delays\",\"Substantial\",\"Damaged\"],[4,\"High\",\"Life threatening injuries from single exposure\",\"Institutional resources required\",\"Major operational disruptions\",\"Severe\",\"Loss of confidence\"]],dtype=object)\n",
    "    #A data frame with values and descriptions for each of the attributes for all of the levels of Severity\n",
    "    SevTitles=[\"Severity Scale : \",\"Severity Rating : \",\"Impact on Personal Safety : \",\"Impact on Resources : \",\"Impact on Work Performance : \",\"Property Damage : \",\"Impact on Reputation : \"]\n",
    "    #A list of titles for each of the attributes\n",
    "    for i in range(7):\n",
    "        print(f\"{SevTitles[i]} {SeverityScaleArray[int(SeverityScale)][i]}\")#printing out each of the different attributes on a new row given the value the user inputted\n",
    "else:\n",
    "    print(\"You have choosen a value out of bounds. Please enter a valid Severity Scale\")"
   ]
  },
  {
   "cell_type": "markdown",
   "id": "7d2a0f0b",
   "metadata": {},
   "source": [
    "<strong>Step 4: Calculating and Summarizing the Risk Rating</strong>"
   ]
  },
  {
   "cell_type": "markdown",
   "id": "4130ba27",
   "metadata": {},
   "source": [
    "Edit <b>this cell</b> with a paragraph describing what steps you will take to complete the final step, calculating and summarizing the risk rating.\n",
    "\n",
    "We will take the values entered from each of the cells and calculate the risk rating."
   ]
  },
  {
   "cell_type": "code",
   "execution_count": 56,
   "id": "e8ae1378",
   "metadata": {},
   "outputs": [
    {
     "name": "stdout",
     "output_type": "stream",
     "text": [
      "Risk Rating (RR) = Probability of Occurrence (OV) x Severity of Consequences Value (CV)\n",
      "The risk rating is : 0\n"
     ]
    }
   ],
   "source": [
    "print(f\"Risk Rating (RR) = Probability of Occurrence (OV) x Severity of Consequences Value (CV)\\nThe risk rating is : {int((HazardProbArray[int(HazardProbability)][0]))*int(SeverityScaleArray[int(SeverityScale)][0])}\")\n",
    "#printing the calculated risk rating giving the values entered by the user"
   ]
  },
  {
   "cell_type": "markdown",
   "id": "80a5a602",
   "metadata": {},
   "source": [
    "<strong>Step 5: Summary</strong>"
   ]
  },
  {
   "cell_type": "markdown",
   "id": "8de7d64d",
   "metadata": {},
   "source": [
    "In this exercise I learned about the safety rating system and how there are different scales to adjust for the interests of those using the system. I also learned how to use numpy more effectively and how to use it with fprint."
   ]
  },
  {
   "cell_type": "markdown",
   "id": "03e1b637-f224-4d1a-a2a0-8dbc66016471",
   "metadata": {},
   "source": [
    "## Sources \n",
    "The company is using a standard [risk rating and assessment methodology](https://institute.acs.org/lab-safety/hazard-assessment/fundamentals/risk-assessment.html) recommended by the American Chemical Society (ACS):"
   ]
  }
 ],
 "metadata": {
  "kernelspec": {
   "display_name": "Python 3 (ipykernel)",
   "language": "python",
   "name": "python3"
  },
  "language_info": {
   "codemirror_mode": {
    "name": "ipython",
    "version": 3
   },
   "file_extension": ".py",
   "mimetype": "text/x-python",
   "name": "python",
   "nbconvert_exporter": "python",
   "pygments_lexer": "ipython3",
   "version": "3.8.2"
  }
 },
 "nbformat": 4,
 "nbformat_minor": 5
}
