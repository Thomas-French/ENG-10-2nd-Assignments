{
 "cells": [
  {
   "cell_type": "markdown",
   "id": "9fa7cada",
   "metadata": {},
   "source": [
    "<h2 style=\"text-align: center\">Engineering Assignment 2 - Rules Engine for Safety Hazards</h2>"
   ]
  },
  {
   "cell_type": "markdown",
   "id": "465d11f9",
   "metadata": {},
   "source": [
    "** Something you learn very quickly at your summer internship is the emphasis your company places on safety.  It seems there are posters everywhere to remind you of safe work practices, there are safety meetings to attend, and statistics related to safety are a key part of every company report. So, you are not surprised when your supervisor asks you to help with the preliminary design of a software application related to safety.  "
   ]
  },
  {
   "cell_type": "markdown",
   "id": "fe6c702a",
   "metadata": {},
   "source": [
    "** The company is using a standard [risk rating and assessment methodology](https://institute.acs.org/lab-safety/hazard-assessment/fundamentals/risk-assessment.html) recommended by the American Chemical Society (ACS):\n",
    "\n",
    "Risk Rating (RR) = Probability of Occurrence (OV) x Severity of Consequences Value (CV)\n",
    "\n",
    "The person doing the assessment will first indicate the frequency of the hazard (0-4), based on the scale provided on the website.  They will next indicate whether they are using the standard or the weighted scale, and then provide their estimate of the severity.  Based on this information provided by the assessor, the program will then calculate a risk rating for that hazard."
   ]
  },
  {
   "cell_type": "markdown",
   "id": "d658264d",
   "metadata": {},
   "source": [
    "** Your task is to provide the section of the application that calculates the risk rating.  To do this, you will need to ask the user to provide three things - their estimate of the probability, the choice of scale for severity, and the severity estimate.  For each of these, print the table entry from the web site that corresponds to the person's selection - for example, if the person chose a probability of 4, you would print the lines \n",
    "\n",
    "Probability Rating: 4 \n",
    "Percent: 90-100% \n",
    "Description: Almost Certain to Certain\n",
    "\n",
    "Next, calculate and print the risk rating for the hazard, based on the input data."
   ]
  },
  {
   "cell_type": "markdown",
   "id": "999679f1",
   "metadata": {},
   "source": [
    "** <strong>Note: </strong>If you make your own markup cells instead of editing cells that start with 'Edit this cell', make sure no cell that starts with 'Edit this cell' is left in the final version. Furthermore, if you edited the cells start with 'Edit this cell', make sure that the instructions from the original file are overwritten. Your submission should not contain any instructions."
   ]
  },
  {
   "cell_type": "markdown",
   "id": "03430e13",
   "metadata": {},
   "source": [
    "Edit <b>this cell</b> with a summary paragraph describing what the project is and what you have been asked to do. Remember, you can double click on any cell to edit it."
   ]
  },
  {
   "cell_type": "markdown",
   "id": "b87fb0c0",
   "metadata": {},
   "source": [
    "<strong>Step 1: Hazard Probability</strong>"
   ]
  },
  {
   "cell_type": "markdown",
   "id": "661babca",
   "metadata": {},
   "source": [
    "Edit <b>this cell</b> with a paragraph describing what steps you will take to complete the first step, assessing the probability."
   ]
  },
  {
   "cell_type": "markdown",
   "id": "6d1765a6",
   "metadata": {},
   "source": [
    "** In the cell below, enter the code to allow the user to input the hazard probability and print the table entry corresponding to that entry."
   ]
  },
  {
   "cell_type": "code",
   "execution_count": 20,
   "id": "32e7543b",
   "metadata": {},
   "outputs": [
    {
     "name": "stdout",
     "output_type": "stream",
     "text": [
      "Add Probability Rating 0-4\n"
     ]
    },
    {
     "name": "stdin",
     "output_type": "stream",
     "text": [
      " 3\n"
     ]
    },
    {
     "name": "stdout",
     "output_type": "stream",
     "text": [
      "Probability Rating : 3\n",
      "Percent : 50-90%\n",
      "Description : Likely\n"
     ]
    }
   ],
   "source": [
    "import numpy as np\n",
    "\n",
    "print(\"Add Probability Rating 0-4\")\n",
    "HazardProbability=input()\n",
    "\n",
    "HazardProbArray=np.array([[0,\"0%\",\"Item/operation is not present in laboratory.\"],[1,\"1-10%\",\"Rare\"],[2,\"10-50%\",\"Possible\"],[3,\"50-90%\",\"Likely\"],[4,\"90-100%\",\"Almost Certain to Certain\"]])\n",
    "HazTitles=[\"Probability Rating : \",\"Percent : \",\"Description : \"]\n",
    "for i in range(3):\n",
    "    print(f\"{HazTitles[i]}{HazardProbArray[int(HazardProbability)][i]}\")"
   ]
  },
  {
   "cell_type": "markdown",
   "id": "b8ff820f",
   "metadata": {},
   "source": [
    "<strong>Step 2: Choice of Severity Scale</strong>"
   ]
  },
  {
   "cell_type": "markdown",
   "id": "0515c0e0",
   "metadata": {},
   "source": [
    "Edit <b>this cell</b> with a paragraph describing what steps you will take to complete the second step, selecting a severity scale.\n",
    "\n",
    "Due to the focus on safety I have implemented a severity of consequences with a weighted value scale. "
   ]
  },
  {
   "cell_type": "markdown",
   "id": "34c3c01f",
   "metadata": {},
   "source": [
    "** In the cell below, enter the code to allow the user to input the severity scale and print the description of the scale they have chosen."
   ]
  },
  {
   "cell_type": "code",
   "execution_count": 25,
   "id": "fd943e03",
   "metadata": {},
   "outputs": [
    {
     "name": "stdout",
     "output_type": "stream",
     "text": [
      "Add Severity Scale 0-3\n"
     ]
    },
    {
     "name": "stdin",
     "output_type": "stream",
     "text": [
      " 2\n"
     ]
    },
    {
     "name": "stdout",
     "output_type": "stream",
     "text": [
      "Severity Scale :  10\n",
      "Severity Rating :  Moderate\n",
      "Impact on Personal Safety :  Moderate to life impacting injuries\n",
      "Impact on Resources :  Additional resources required\n",
      "Impact on Work Performance :  Significant delays\n",
      "Property Damage :  Substantial\n",
      "Impact on Reputation :  Damaged\n"
     ]
    }
   ],
   "source": [
    "print(\"Add Severity Scale 0-3\") \n",
    "SeverityScale=input() #getting the \n",
    " \n",
    "SeverityScaleArray=np.array([[1,\"No Risk\",\"No Injuries\",\"No Impact\",\"No delays\",\"Minor\",\"No Impact\"],[5,\"Minor\",\"Minor Injuries\",\"Moderate Impact\",\"Modest Delays\",\"Moderate\",\"Potential Damage\"],[10,\"Moderate\",\"Moderate to life impacting injuries\",\"Additional resources required\",\"Significant delays\",\"Substantial\",\"Damaged\"],[20,\"High\",\"Life threatening injuries from single exposure\",\"Institutional resources required\",\"Major operational disruptions\",\"Severe\",\"Loss of confidence\"]],dtype=object)\n",
    "SevTitles=[\"Severity Scale : \",\"Severity Rating : \",\"Impact on Personal Safety : \",\"Impact on Resources : \",\"Impact on Work Performance : \",\"Property Damage : \",\"Impact on Reputation : \"]\n",
    "for i in range(7):\n",
    "    print(f\"{SevTitles[i]} {SeverityScaleArray[int(SeverityScale)][i]}\")"
   ]
  },
  {
   "cell_type": "markdown",
   "id": "c2d43fb1",
   "metadata": {},
   "source": [
    "<strong>Step 3: Hazard Severity</strong>"
   ]
  },
  {
   "cell_type": "markdown",
   "id": "3e435e2b",
   "metadata": {},
   "source": [
    "Edit <b>this cell</b> with a paragraph describing what steps you will take to the third step, assessing the hazard severity."
   ]
  },
  {
   "cell_type": "markdown",
   "id": "62ab4c82",
   "metadata": {},
   "source": [
    "** In the cell below, enter the code to allow the user to input the hazard severity and print the table entry corresponding to that entry."
   ]
  },
  {
   "cell_type": "code",
   "execution_count": null,
   "id": "9ce37257",
   "metadata": {},
   "outputs": [],
   "source": []
  },
  {
   "cell_type": "markdown",
   "id": "7d2a0f0b",
   "metadata": {},
   "source": [
    "<strong>Step 4: Calculating and Summarizing the Risk Rating</strong>"
   ]
  },
  {
   "cell_type": "markdown",
   "id": "4130ba27",
   "metadata": {},
   "source": [
    "Edit <b>this cell</b> with a paragraph describing what steps you will take to complete the final step, calculating and summarizing the risk rating."
   ]
  },
  {
   "cell_type": "markdown",
   "id": "9c4332e0",
   "metadata": {},
   "source": [
    "** In the cell below, enter the code to calculate and print the risk rating and a summary on how it was calculated."
   ]
  },
  {
   "cell_type": "code",
   "execution_count": null,
   "id": "e8ae1378",
   "metadata": {},
   "outputs": [],
   "source": []
  },
  {
   "cell_type": "markdown",
   "id": "80a5a602",
   "metadata": {},
   "source": [
    "<strong>Step 5: Summary</strong>"
   ]
  },
  {
   "cell_type": "markdown",
   "id": "8de7d64d",
   "metadata": {},
   "source": [
    "Edit <b>this cell</b> with your summary of the learnings from this exercise."
   ]
  },
  {
   "cell_type": "markdown",
   "id": "c3c849b0",
   "metadata": {},
   "source": [
    "** You are just about to submit your project report.  Be sure you have run the code with an example to make sure everything actually works and produces the expected output. Now go back through it and delete all the cells with instructions (they all begin with two asterisks). Add any additional formatting needed to make your proposal look professional. When you are finished, there should not be any cells that say \"Edit this cell\" because either you have edited those cells and replaced that text or you have deleted them. Double check all your assumptions and calculations to make sure your results are visible, reasonable and correct. If you can't see your results, we won't either, and this will hurt your grade.  Next, do a print preview and make sure everything looks as you expected.  Final, save the print preview as a .pdf, and then submit both the pdf and the notebook file to Course Site.  Congratulations on completing assignment 2."
   ]
  }
 ],
 "metadata": {
  "kernelspec": {
   "display_name": "Python 3 (ipykernel)",
   "language": "python",
   "name": "python3"
  },
  "language_info": {
   "codemirror_mode": {
    "name": "ipython",
    "version": 3
   },
   "file_extension": ".py",
   "mimetype": "text/x-python",
   "name": "python",
   "nbconvert_exporter": "python",
   "pygments_lexer": "ipython3",
   "version": "3.8.2"
  }
 },
 "nbformat": 4,
 "nbformat_minor": 5
}
