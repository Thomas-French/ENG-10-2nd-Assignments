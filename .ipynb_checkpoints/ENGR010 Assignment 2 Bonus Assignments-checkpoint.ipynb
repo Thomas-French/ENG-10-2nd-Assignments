{
 "cells": [
  {
   "cell_type": "markdown",
   "id": "9fa7cada",
   "metadata": {},
   "source": [
    "<h2 style=\"text-align: center\">Engineering Assignment 2 - Bonus Assignments</h2>"
   ]
  },
  {
   "cell_type": "markdown",
   "id": "bbe570b3",
   "metadata": {},
   "source": [
    "The code will be the exact same as in the assignment except for everycell after the input is taken it will be checked whether or not it is a number and then checked whether or not that number is within the range of valid. While this does require two steps this insures a value that is not a sting or int will still be detected as invalid and no error will occur"
   ]
  },
  {
   "cell_type": "code",
   "execution_count": 1,
   "id": "cfa83fa8-635a-4b2d-b30a-376c15125615",
   "metadata": {},
   "outputs": [
    {
     "name": "stdout",
     "output_type": "stream",
     "text": [
      "Add Probability Rating 0-4\n"
     ]
    },
    {
     "name": "stdin",
     "output_type": "stream",
     "text": [
      " 4\n"
     ]
    },
    {
     "name": "stdout",
     "output_type": "stream",
     "text": [
      "Probability Rating : 4\n",
      "Percent : 90-100%\n",
      "Description : Almost Certain to Certain\n"
     ]
    }
   ],
   "source": [
    "import numpy as np #This is helpful for dataframes and arrays. \n",
    "\n",
    "print(\"Add Probability Rating 0-4\")\n",
    "HazardProbability=input()#getting input from user \n",
    "if(HazardProbability.isnumeric()):#checking if input is a number\n",
    "    if(int(HazardProbability) in [0,1,2,3,4]):#checking if it is a valid number\n",
    "        HazardProbArray=np.array([[0,\"0%\",\"Item/operation is not present in laboratory.\"],[1,\"1-10%\",\"Rare\"],[2,\"10-50%\",\"Possible\"],[3,\"50-90%\",\"Likely\"],[4,\"90-100%\",\"Almost Certain to Certain\"]])\n",
    "#A data frame with values and descriptions for each of the attributes for all of the levels of Probability rating\n",
    "        HazTitles=[\"Probability Rating : \",\"Percent : \",\"Description : \"] #A list of titles for each of the attributes\n",
    "        for i in range(3):\n",
    "            print(f\"{HazTitles[i]}{HazardProbArray[int(HazardProbability)][i]}\")#printing out each of the different attributes on a new row given the value the user inputted\n",
    "    #if the user does not enter a valid value an out of bounds error will occur\n",
    "    else:\n",
    "        print(\"You have choosen a value out of bounds. Please enter a valid Probability Rating\")\n",
    "else:\n",
    "    print(\"You have choosen a value out of bounds. Please enter a valid Probability Rating\")"
   ]
  },
  {
   "cell_type": "code",
   "execution_count": 2,
   "id": "8d9c7128-4a26-4c04-9788-c653b9f67976",
   "metadata": {},
   "outputs": [
    {
     "name": "stdout",
     "output_type": "stream",
     "text": [
      "Select a Severity Scale: Standard Linear Scale(0) or Weighted Value Scale(1)\n"
     ]
    },
    {
     "name": "stdin",
     "output_type": "stream",
     "text": [
      " 2\n"
     ]
    },
    {
     "name": "stdout",
     "output_type": "stream",
     "text": [
      "You have choosen a value out of bounds. Please enter a valid Severity Scale\n"
     ]
    }
   ],
   "source": [
    "print(\"Select a Severity Scale: Standard Linear Scale(0) or Weighted Value Scale(1)\")\n",
    "selectedScale=input()#getting user input\n",
    "if(selectedScale.isnumeric()):#checking if input is a number\n",
    "    if(int(selectedScale) in [0,1]):#checking if it is a valid number\n",
    "        ScaleArray=np.array([[\"Standard Linear Scale\",\"The Standard Linear Scale gives each level of severity a linear value. This means the difference from none to minor is the same as moderate to high. The scale is also valued from 1-4 the same way the probabilty scale is. This means that a very likely activity with no risk has the same risk rating as a life threatening hazard with rare probability does\"],[\"Weighted Value Scale\",\"The Weighted Value Scale gives each incrasing level of severity a higher value. This means that the difference between no risk and minor is much less than the difference between moderate and high risk. The scale is from 1-20 with values from no risk, minor, moderate, high being 1,5,10,20 respectively. This places a high risk rating significance not only in the risk of the activity itself but also a higher rating comperitively to higher risk activities\"]])\n",
    "        print(f\"You have chosen the {ScaleArray[int(selectedScale)][0]}.\\n{ScaleArray[int(selectedScale)][1]}\")\n",
    "    else:\n",
    "        print(\"You have choosen a value out of bounds. Please enter a valid Severity Scale\")\n",
    "else:\n",
    "            print(\"You have choosen a value out of bounds. Please enter a valid Severity Scale\")    "
   ]
  },
  {
   "cell_type": "code",
   "execution_count": 36,
   "id": "0023574e-dd11-441f-a17d-e5f77ad3ac87",
   "metadata": {},
   "outputs": [
    {
     "name": "stdout",
     "output_type": "stream",
     "text": [
      "Weighted Value Scale\n",
      "Add the Hazard Severity Assesment 0-3\n"
     ]
    },
    {
     "name": "stdin",
     "output_type": "stream",
     "text": [
      " 3\n"
     ]
    },
    {
     "name": "stdout",
     "output_type": "stream",
     "text": [
      "Severity Scale :  20\n",
      "Severity Rating :  High\n",
      "Impact on Personal Safety :  Life threatening injuries from single exposure\n",
      "Impact on Resources :  Institutional resources required\n",
      "Impact on Work Performance :  Major operational disruptions\n",
      "Property Damage :  Severe\n",
      "Impact on Reputation :  Loss of confidence\n"
     ]
    }
   ],
   "source": [
    "if (int(selectedScale)==1):\n",
    "    print(\"Weighted Value Scale\")\n",
    "    print(\"Add the Hazard Severity Assesment 0-3\") \n",
    "    SeverityScale=input() #getting the input\n",
    "    if(SeverityScale.isnumeric()):#checking if input is a number\n",
    "        if(int(SeverityScale) in [0,1,2,3]):#checking if it is a valid number\n",
    "            SeverityScaleArray=np.array([[1,\"No Risk\",\"No Injuries\",\"No Impact\",\"No delays\",\"Minor\",\"No Impact\"],[5,\"Minor\",\"Minor Injuries\",\"Moderate Impact\",\"Modest Delays\",\"Moderate\",\"Potential Damage\"],[10,\"Moderate\",\"Moderate to life impacting injuries\",\"Additional resources required\",\"Significant delays\",\"Substantial\",\"Damaged\"],[20,\"High\",\"Life threatening injuries from single exposure\",\"Institutional resources required\",\"Major operational disruptions\",\"Severe\",\"Loss of confidence\"]],dtype=object)\n",
    "            SevTitles=[\"Severity Scale : \",\"Severity Rating : \",\"Impact on Personal Safety : \",\"Impact on Resources : \",\"Impact on Work Performance : \",\"Property Damage : \",\"Impact on Reputation : \"]\n",
    "            for i in range(7):\n",
    "                print(f\"{SevTitles[i]} {SeverityScaleArray[int(SeverityScale)][i]}\")\n",
    "        else:\n",
    "            print(\"You have choosen a value out of bounds. Please enter a valid Severity Scale\")\n",
    "    else:\n",
    "        print(\"You have choosen a value out of bounds. Please enter a valid Severity Scale\")\n",
    "elif(int(selectedScale)==0):\n",
    "    print(\"Standard Linear Scale\")\n",
    "    print(\"Add Severity Scale 0-3\") \n",
    "    SeverityScale=input() #getting the input\n",
    "    if(SeverityScale.isnumeric()):#checking if input is a number\n",
    "        if(int(SeverityScale) in [0,1,2,3]):#checking if it is a valid number\n",
    "            SeverityScaleArray=np.array([[1,\"No Risk\",\"No Injuries\",\"No Impact\",\"No delays\",\"Minor\",\"No Impact\"],[2,\"Minor\",\"Minor Injuries\",\"Moderate Impact\",\"Modest Delays\",\"Moderate\",\"Potential Damage\"],[3,\"Moderate\",\"Moderate to life impacting injuries\",\"Additional resources required\",\"Significant delays\",\"Substantial\",\"Damaged\"],[4,\"High\",\"Life threatening injuries from single exposure\",\"Institutional resources required\",\"Major operational disruptions\",\"Severe\",\"Loss of confidence\"]],dtype=object)\n",
    "            SevTitles=[\"Severity Scale : \",\"Severity Rating : \",\"Impact on Personal Safety : \",\"Impact on Resources : \",\"Impact on Work Performance : \",\"Property Damage : \",\"Impact on Reputation : \"]\n",
    "            for i in range(7):\n",
    "                print(f\"{SevTitles[i]} {SeverityScaleArray[int(SeverityScale)][i]}\")\n",
    "        else:\n",
    "            print(\"You have choosen a value out of bounds. Please enter a valid Severity Scale\")\n",
    "    else:\n",
    "        print(\"You have choosen a value out of bounds. Please enter a valid Severity Scale\")\n",
    "else:\n",
    "    print(\"You have choosen a value out of bounds. Please enter a valid Severity Scale\")"
   ]
  },
  {
   "cell_type": "code",
   "execution_count": 37,
   "id": "e96b624a-aea6-474c-b8d5-984613fb47d6",
   "metadata": {},
   "outputs": [
    {
     "name": "stdout",
     "output_type": "stream",
     "text": [
      "Risk Rating (RR) = Probability of Occurrence (OV) x Severity of Consequences Value (CV)\n",
      "The risk rating is : 20\n"
     ]
    }
   ],
   "source": [
    "print(f\"Risk Rating (RR) = Probability of Occurrence (OV) x Severity of Consequences Value (CV)\\nThe risk rating is : {int((HazardProbArray[int(HazardProbability)][0]))*int(SeverityScaleArray[int(SeverityScale)][0])}\")"
   ]
  },
  {
   "cell_type": "markdown",
   "id": "8fb3fe82",
   "metadata": {},
   "source": [
    "** <strong> Bonus Assignment 2: </strong>Write a new version of the program that replaces the linear structure with a single loop that calls separate functions to request and return values for the probability, severity scale and severity. Each function should prompt the user as often as needed to get a valid input, or allow the user to quit if they get frustrated.  Once the program calculates the risk rating, it should ask the user if they would like to calculate another rating or quit."
   ]
  },
  {
   "cell_type": "markdown",
   "id": "56ea9679",
   "metadata": {},
   "source": [
    "This program will not have descriptions for the sake of not taking up a bunch of space. I will create three functions one for probability one for scale and one for severity. Each will take in an input if it is not a int in the range it will rerun the function. If the user types quit they can leave the program at anytime. The loop will have a counter and everytime the user wants to run the program again it will subtract one from the counter and if not it will stop the while loop. "
   ]
  },
  {
   "cell_type": "code",
   "execution_count": 34,
   "id": "a07e973f",
   "metadata": {},
   "outputs": [
    {
     "name": "stdout",
     "output_type": "stream",
     "text": [
      "Add Probability Rating 0-4\tIf you want to quit type \"quit\"\n"
     ]
    },
    {
     "name": "stdin",
     "output_type": "stream",
     "text": [
      " 4\n"
     ]
    },
    {
     "name": "stdout",
     "output_type": "stream",
     "text": [
      "Add the Hazard Severity Scale 0-1\tIf you want to quit type \"quit\"\n"
     ]
    },
    {
     "name": "stdin",
     "output_type": "stream",
     "text": [
      " 1\n"
     ]
    },
    {
     "name": "stdout",
     "output_type": "stream",
     "text": [
      "Add the Hazard Severity Assesment 0-3\tIf you want to quit type \"quit\"\n"
     ]
    },
    {
     "name": "stdin",
     "output_type": "stream",
     "text": [
      " 7\n"
     ]
    },
    {
     "name": "stdout",
     "output_type": "stream",
     "text": [
      "Severity not in range\n",
      "Add the Hazard Severity Assesment 0-3\tIf you want to quit type \"quit\"\n"
     ]
    },
    {
     "name": "stdin",
     "output_type": "stream",
     "text": [
      " 1\n"
     ]
    },
    {
     "name": "stdout",
     "output_type": "stream",
     "text": [
      "Your risk rating is 20\n",
      "Do you want to calculate another risk rating (y/n)\n"
     ]
    },
    {
     "name": "stdin",
     "output_type": "stream",
     "text": [
      " y\n"
     ]
    },
    {
     "name": "stdout",
     "output_type": "stream",
     "text": [
      "Add Probability Rating 0-4\tIf you want to quit type \"quit\"\n"
     ]
    },
    {
     "name": "stdin",
     "output_type": "stream",
     "text": [
      " quit\n"
     ]
    },
    {
     "name": "stdout",
     "output_type": "stream",
     "text": [
      "you have quit the program\n"
     ]
    },
    {
     "ename": "SystemExit",
     "evalue": "",
     "output_type": "error",
     "traceback": [
      "An exception has occurred, use %tb to see the full traceback.\n",
      "\u001b[0;31mSystemExit\u001b[0m\n"
     ]
    }
   ],
   "source": [
    "import numpy as np \n",
    "import sys #to exit the program\n",
    "\n",
    "i=0\n",
    "def Probability ():\n",
    "    print(\"Add Probability Rating 0-4\\tIf you want to quit type \\\"quit\\\"\")\n",
    "    prob=input()\n",
    "    if(prob.isnumeric()==True):\n",
    "        return(int(prob))\n",
    "    if(prob==\"quit\"):\n",
    "        print(\"you have quit the program\")\n",
    "        sys.exit()\n",
    "    return(prob)\n",
    "\n",
    "def Scale ():\n",
    "    print(\"Add the Hazard Severity Scale 0-1\\tIf you want to quit type \\\"quit\\\"\")\n",
    "    sca=input()\n",
    "    if(sca.isnumeric()==True):\n",
    "        return(int(sca))\n",
    "    if(sca==\"quit\"):\n",
    "        print(\"you have quit the program\")\n",
    "        sys.exit()\n",
    "    return(sca)\n",
    "\n",
    "def Severity (sc):\n",
    "    sev=0\n",
    "    if (int(sc)==1):\n",
    "        print(\"Add the Hazard Severity Assesment 0-3\\tIf you want to quit type \\\"quit\\\"\") \n",
    "        SeverityScale=input()\n",
    "        if(SeverityScale.isnumeric()==True):\n",
    "            if(int(SeverityScale)<=3):#making sure a invalid number doesn't cause an out of bound error\n",
    "                if(SeverityScale==\"quit\"):\n",
    "                    print(\"you have quit the program\")\n",
    "                    sys.exit()\n",
    "                SeverityScaleArray=np.array([[1],[5],[10],[20]],dtype=object)#getting the values based on the scale previously chosen\n",
    "                sev=int(SeverityScaleArray[int(SeverityScale)])\n",
    "                return(int(sev))\n",
    "    elif(int(sc)==0):\n",
    "        print(\"Add the Hazard Severity Assesment 0-3\\tIf you want to quit type \\\"quit\\\"\") \n",
    "        SeverityScale=input() \n",
    "        if(SeverityScale.isnumeric()==True):\n",
    "            if(int(SeverityScale)<=3):#making sure a invalid number doesn't cause an out of bound error\n",
    "                if(SeverityScale==\"quit\"):\n",
    "                    print(\"you have quit the program\")\n",
    "                    sys.exit()\n",
    "                SeverityScaleArray=np.array([[1],[2],[3],[4]],dtype=object) #getting the values based on the scale previously chosen\n",
    "                sev=int(SeverityScaleArray[int(SeverityScale)])\n",
    "                return(int(sev))\n",
    "    return(sev)\n",
    "\n",
    "while (i<1):\n",
    "    \n",
    "    p=Probability()\n",
    "    while(p not in [0,1,2,3,4]):\n",
    "        print(\"probability not in range\") #if a invalid input is given it will rerun the function until a valid option is given\n",
    "        p=Probability()\n",
    "    \n",
    "    sc=Scale()\n",
    "    while(sc not in [0,1]):\n",
    "        print(\"scale not in range\") #same as above\n",
    "        sc=Scale()\n",
    "    \n",
    "    s=Severity(sc)\n",
    "    while(s not in [1,2,3,4,5,10,20]):\n",
    "        print(\"Severity not in range\") #same as above but the values for both scales are accepted because the 0-4 input is automatically converted and extra precaustions take to prevent errors\n",
    "        s=Severity(sc)\n",
    "        \n",
    "    rr=p*s\n",
    "    print(f\"Your risk rating is {rr}\")\n",
    "    print(\"Do you want to calculate another risk rating (y/n)\")\n",
    "    yn=input()\n",
    "    if(str(yn) in \"y\"):\n",
    "        i-=1\n",
    "    i+=1\n",
    "print(\"Thanks for using the risk rating program\")"
   ]
  }
 ],
 "metadata": {
  "kernelspec": {
   "display_name": "Python 3 (ipykernel)",
   "language": "python",
   "name": "python3"
  },
  "language_info": {
   "codemirror_mode": {
    "name": "ipython",
    "version": 3
   },
   "file_extension": ".py",
   "mimetype": "text/x-python",
   "name": "python",
   "nbconvert_exporter": "python",
   "pygments_lexer": "ipython3",
   "version": "3.8.2"
  }
 },
 "nbformat": 4,
 "nbformat_minor": 5
}
