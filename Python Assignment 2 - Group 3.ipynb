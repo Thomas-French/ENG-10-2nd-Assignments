{
 "cells": [
  {
   "cell_type": "markdown",
   "id": "1ab6f563",
   "metadata": {},
   "source": [
    "<h2 align='center'>Weekly Python Assignment 2 - Group 3</h2>"
   ]
  },
  {
   "cell_type": "markdown",
   "id": "af8ba61c",
   "metadata": {},
   "source": [
    "<strong>Instructions:</strong> For each exercise below, type the requested code into the cell below the exercise, then run your code."
   ]
  },
  {
   "cell_type": "markdown",
   "id": "0b91f686",
   "metadata": {},
   "source": [
    "1\\. Assign 3 to the variable x, then print x only if x is equal to 3; otherwise, print 'invalid entry'"
   ]
  },
  {
   "cell_type": "code",
   "execution_count": 3,
   "id": "c5726147",
   "metadata": {},
   "outputs": [
    {
     "name": "stdout",
     "output_type": "stream",
     "text": [
      "3\n"
     ]
    }
   ],
   "source": [
    "x=3 #assigning 3 to x\n",
    "if (x==3): #if x equals 3 \n",
    "    print(x) #then print x\n",
    "else: #if the if statement is false\n",
    "    print(\"invalid entry\") #print \"invalid entry\""
   ]
  },
  {
   "cell_type": "markdown",
   "id": "3c451fe9",
   "metadata": {},
   "source": [
    "2\\. Assign 'sam' to a variable called \"name\".  Then add ' jones' to name if name is equal to 'sam'. Then print name."
   ]
  },
  {
   "cell_type": "code",
   "execution_count": 8,
   "id": "907bec8c",
   "metadata": {},
   "outputs": [
    {
     "name": "stdout",
     "output_type": "stream",
     "text": [
      "sam jones\n"
     ]
    }
   ],
   "source": [
    "name=\"sam\" #adding \"sam\" to name\n",
    "if (name==\"sam\"): # is name equals sam\n",
    "    name+=\" jones\" # add \" jones\" to name\n",
    "    print(name) #printing name"
   ]
  },
  {
   "cell_type": "markdown",
   "id": "1e2379d5",
   "metadata": {},
   "source": [
    "3\\. Test whether 'aa' is greater than 'Aa'"
   ]
  },
  {
   "cell_type": "code",
   "execution_count": 13,
   "id": "713b8471",
   "metadata": {},
   "outputs": [
    {
     "name": "stdout",
     "output_type": "stream",
     "text": [
      "aa > Aa\n"
     ]
    }
   ],
   "source": [
    "lower=\"aa\"#creating aa\n",
    "upper=\"Aa\"#creating Aa\n",
    "if (lower>upper):#Testing which is greater than the other\n",
    "    print(f\"{lower} > {upper}\")\n",
    "elif (lower<upper):\n",
    "    print(f\"{lower} < {upper}\")\n",
    "    # aa is greater because it is earlier in lexographical order"
   ]
  },
  {
   "cell_type": "markdown",
   "id": "b1bbefd4",
   "metadata": {},
   "source": [
    "4\\. Test whether 'a' is in the the set of English language vowels."
   ]
  },
  {
   "cell_type": "code",
   "execution_count": 19,
   "id": "e358cb03",
   "metadata": {},
   "outputs": [
    {
     "name": "stdout",
     "output_type": "stream",
     "text": [
      "a is a vowel\n"
     ]
    }
   ],
   "source": [
    "vowels=['a','e','i','o','u'] #making list of vowels\n",
    "if (\"a\" in vowels): #checking if a is a vowel\n",
    "    print(\"a is a vowel\") #printing if it is \n",
    "else:\n",
    "    print(\"a is not a vowel\")#or if it isnt"
   ]
  },
  {
   "cell_type": "markdown",
   "id": "32035b54",
   "metadata": {},
   "source": [
    "5\\. Set fast_mode to True; if it is, set game_speed to 11, otherwise set it to 2, then print both values."
   ]
  },
  {
   "cell_type": "code",
   "execution_count": 21,
   "id": "373cee8b",
   "metadata": {},
   "outputs": [
    {
     "name": "stdout",
     "output_type": "stream",
     "text": [
      "fast_mode = False\n",
      "game_speed = 2\n"
     ]
    }
   ],
   "source": [
    "fast_mode=True #setting fast_mode to true\n",
    "if (fast_mode): #checking if fast_mode is true\n",
    "    game_speed=11 #setting game_speed\n",
    "    print(f\"fast_mode = {fast_mode}\\ngame_speed = {game_speed}\") #printing\n",
    "else: # if its false then\n",
    "    game_speed=2#setting game_speed\n",
    "    print(f\"fast_mode = {fast_mode}\\ngame_speed = {game_speed}\")#printing"
   ]
  },
  {
   "cell_type": "markdown",
   "id": "11728ddf",
   "metadata": {},
   "source": [
    "6\\. Set name1 equal to 'Smith'. Set name2 equal to 'Jones'.  If name1 is 'Smith', print 'Smith'.  If name2 is 'Jones', print 'Jones'.  If name1 is 'Smith' and name2 is 'Jones', print 'Smith and Jones'. Your program should not print more than one line."
   ]
  },
  {
   "cell_type": "code",
   "execution_count": 25,
   "id": "1a6d90a2",
   "metadata": {},
   "outputs": [
    {
     "name": "stdout",
     "output_type": "stream",
     "text": [
      "Smith and Jones\n"
     ]
    }
   ],
   "source": [
    "name1=\"Smith\"\n",
    "name2=\"Jones\"\n",
    "if ((name1==\"Smith\")&(name2==\"Jones\")): #checking if name1 equals Smith and if name2 equals Jones\n",
    "    print(f\"{name1} and {name2}\") #printing\n",
    "elif (name1==\"Smith\"): #checking if name1 equals Smith\n",
    "    print(f\"{name1}\") #printing\n",
    "elif (name2==\"Jones\"): #checking if name2 equals Jones\n",
    "    print(f\"{name1}\") #printing\n"
   ]
  },
  {
   "cell_type": "markdown",
   "id": "2f1998dd",
   "metadata": {},
   "source": [
    "7\\. Create two lists that contain the vowels a, e, i, o, u such that the lists are equal, but not identical. Now create a third list that is identical to the first list.  Validate using code."
   ]
  },
  {
   "cell_type": "code",
   "execution_count": 33,
   "id": "839f32d0",
   "metadata": {},
   "outputs": [
    {
     "name": "stdout",
     "output_type": "stream",
     "text": [
      "list1 equals list2 : True\n",
      "list1 and list2 are identical : False\n",
      "\n",
      "list1 equals list3 : True\n",
      "list1 and list3 are identical : True\n"
     ]
    }
   ],
   "source": [
    "list1=\"aoiue\"\n",
    "list2=\"oeuia\"\n",
    "list3=list1\n",
    "print(f\"list1 equals list2 : {sorted(list1)==sorted(list2)}\\nlist1 and list2 are identical : {list1==list2}\\n\")\n",
    "#this checks that the list are equal-they contain the same letters-but not identical\n",
    "print(f\"list1 equals list3 : {sorted(list1)==sorted(list3)}\\nlist1 and list3 are identical : {list1==list3}\")\n",
    "#same thing as above"
   ]
  }
 ],
 "metadata": {
  "kernelspec": {
   "display_name": "Python 3 (ipykernel)",
   "language": "python",
   "name": "python3"
  },
  "language_info": {
   "codemirror_mode": {
    "name": "ipython",
    "version": 3
   },
   "file_extension": ".py",
   "mimetype": "text/x-python",
   "name": "python",
   "nbconvert_exporter": "python",
   "pygments_lexer": "ipython3",
   "version": "3.8.2"
  }
 },
 "nbformat": 4,
 "nbformat_minor": 5
}
