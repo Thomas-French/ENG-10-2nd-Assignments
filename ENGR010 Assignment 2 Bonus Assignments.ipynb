{
 "cells": [
  {
   "cell_type": "markdown",
   "id": "9fa7cada",
   "metadata": {},
   "source": [
    "<h2 style=\"text-align: center\">Engineering Assignment 2 - Bonus Assignments</h2>"
   ]
  },
  {
   "cell_type": "markdown",
   "id": "853b2c16",
   "metadata": {},
   "source": [
    "<strong>\\*\\* Bonus Assignment 1: </strong>As currently written, the program from Engineering Assignment 2 will not work if the user inputs a value other than those listed in the table. Write a new version of the program that checks to make sure the user has input a probability value that is in the list \\[0, 1, 2, 3, 4\\] and a severity that is in the list \\[1, 2, 3, 4, 5, 10, 20\\]. If any other value is input, print an error message and list the valid choices for them. Then tell the user to run the cell again and input a valid choice.  <strong>Note:  </strong>You could add an else statement to handle all other inputs - this will catch all the incorrect numerical inputs. However, a more serious problem occurs if the user inputs something that is not a valid int at all, such as the string \"one\".  Since you will need to convert the probability and severity to integers at some point, you should test the values immediately when they are input and make sure that the input string matches one of the valid input strings.<p>\n",
    "If you make your own markup cells instead of editing cells start with 'Edit this cell', make sure no cells starts with 'Edit this cell' is left in the final version as well. Furthermore, if you editted the cells start with 'Edit this cell', make sure that the instructions from the original file is overwritten. Your submission should not contain any instructions."
   ]
  },
  {
   "cell_type": "markdown",
   "id": "bbe570b3",
   "metadata": {},
   "source": [
    "Edit <strong>this cell</strong> with your description of your code.  Then type your code into the code cell below."
   ]
  },
  {
   "cell_type": "code",
   "execution_count": null,
   "id": "c13f94b1",
   "metadata": {},
   "outputs": [],
   "source": []
  },
  {
   "cell_type": "markdown",
   "id": "8fb3fe82",
   "metadata": {},
   "source": [
    "** <strong> Bonus Assignment 2: </strong>Write a new version of the program that replaces the linear structure with a single loop that calls separate functions to request and return values for the probability, severity scale and severity. Each function should prompt the user as often as needed to get a valid input, or allow the user to quit if they get frustrated.  Once the program calculates the risk rating, it should ask the user if they would like to calculate another rating or quit."
   ]
  },
  {
   "cell_type": "markdown",
   "id": "56ea9679",
   "metadata": {},
   "source": [
    "Edit <strong>this cell</strong> with your description of your code.  Then type your code into the code cell below."
   ]
  },
  {
   "cell_type": "code",
   "execution_count": null,
   "id": "a07e973f",
   "metadata": {},
   "outputs": [],
   "source": []
  },
  {
   "cell_type": "markdown",
   "id": "c3c849b0",
   "metadata": {},
   "source": [
    "** You are just about to submit your bonus assignment.  Go back through it and delete all the cells with instructions (they all begin with two asterisks. Add any additional formatting needed to make your proposal look professional.  Double check all your assumptions and calculations to make sure your results are visible, reasonable and correct. If you can't see your results, we won't either, and this will hurt your grade.  Next, do a print preview and make sure everything looks as you expected.  Finally, save the print preview as a .pdf and submit the file to Course Site.  Congratulations on completing your bonus assignment."
   ]
  }
 ],
 "metadata": {
  "kernelspec": {
   "display_name": "Python 3 (ipykernel)",
   "language": "python",
   "name": "python3"
  },
  "language_info": {
   "codemirror_mode": {
    "name": "ipython",
    "version": 3
   },
   "file_extension": ".py",
   "mimetype": "text/x-python",
   "name": "python",
   "nbconvert_exporter": "python",
   "pygments_lexer": "ipython3",
   "version": "3.8.2"
  }
 },
 "nbformat": 4,
 "nbformat_minor": 5
}
